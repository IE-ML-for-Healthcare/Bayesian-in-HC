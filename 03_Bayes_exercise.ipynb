{
 "cells": [
  {
   "cell_type": "markdown",
   "metadata": {},
   "source": [
    "### Opioid addiction and Bayes' Theorem (Several assumptions are made in this exercise)\n",
    "\n",
    "A Healthcare company needs to decide whether it should provide Oxycontin for severe pain treatment to patients. Based on a very limited amount of available historical data (1000 samples), the company estimates that 25% of previous patients became addicted to the drug (However, the company is aware that overall, in USA is closer to 5% (1)\n",
    "    \n",
    "(1) [NCBI Article](https://www.ncbi.nlm.nih.gov/pmc/articles/PMC2785002/)\n",
    "\n",
    "The company employs a Logistic Regression model to flag potential addiction cases. This model has a precision (i.e. Poitive Prediction Value PPV) of 51%, with the following preliminary metrics on a 200-claim test set:\n",
    "    \n",
    "    - False Positive: 42\n",
    "    - False Negative: 15\n",
    "    - True Positive: 44\n",
    "    - True Negative: 99\n"
   ]
  },
  {
   "cell_type": "code",
   "execution_count": 2,
   "metadata": {},
   "outputs": [],
   "source": [
    "import pandas as pd"
   ]
  },
  {
   "cell_type": "code",
   "execution_count": null,
   "metadata": {},
   "outputs": [],
   "source": [
    "FP = 0\n",
    "FN = 0\n",
    "TP = 0\n",
    "TN = 0"
   ]
  },
  {
   "cell_type": "code",
   "execution_count": 4,
   "metadata": {},
   "outputs": [
    {
     "data": {
      "text/html": [
       "<style type=\"text/css\">\n",
       "</style>\n",
       "<table id=\"T_3a1d5\">\n",
       "  <thead>\n",
       "    <tr>\n",
       "      <th class=\"blank level0\" >&nbsp;</th>\n",
       "      <th id=\"T_3a1d5_level0_col0\" class=\"col_heading level0 col0\" >addicted</th>\n",
       "      <th id=\"T_3a1d5_level0_col1\" class=\"col_heading level0 col1\" >not_addicted</th>\n",
       "    </tr>\n",
       "  </thead>\n",
       "  <tbody>\n",
       "    <tr>\n",
       "      <th id=\"T_3a1d5_level0_row0\" class=\"row_heading level0 row0\" >flagged_addict</th>\n",
       "      <td id=\"T_3a1d5_row0_col0\" class=\"data row0 col0\" >44</td>\n",
       "      <td id=\"T_3a1d5_row0_col1\" class=\"data row0 col1\" >42</td>\n",
       "    </tr>\n",
       "    <tr>\n",
       "      <th id=\"T_3a1d5_level0_row1\" class=\"row_heading level0 row1\" >flagged_not_addict</th>\n",
       "      <td id=\"T_3a1d5_row1_col0\" class=\"data row1 col0\" >15</td>\n",
       "      <td id=\"T_3a1d5_row1_col1\" class=\"data row1 col1\" >99</td>\n",
       "    </tr>\n",
       "  </tbody>\n",
       "</table>\n"
      ],
      "text/plain": [
       "<pandas.io.formats.style.Styler at 0x24370d50310>"
      ]
     },
     "execution_count": 4,
     "metadata": {},
     "output_type": "execute_result"
    }
   ],
   "source": [
    "data = {\n",
    "    'addicted': {'flagged_addict': TP, 'flagged_not_addict': FN},\n",
    "    'not_addicted': {'flagged_addict': FP, 'flagged_not_addict': TN}\n",
    "}\n",
    "\n",
    "df = pd.DataFrame(data)\n",
    "df.style"
   ]
  },
  {
   "cell_type": "markdown",
   "metadata": {},
   "source": [
    "### Bayes Exercise *\"If the model predicts potential addiction, what is the probability that the patient may actually become addicted?\"*"
   ]
  },
  {
   "cell_type": "markdown",
   "metadata": {},
   "source": [
    "\n",
    "$$\n",
    "\\underbrace{P(C \\mid +)}_{\\text{Posterior}} = \\frac{\\overbrace{P(+ \\mid C)}^{\\text{Likelihood}} \\times \\overbrace{P(C)}^{\\text{Prior}}}{\\underbrace{P(+)}_{\\text{Evidence}}}\n",
    "$$\n",
    "\n",
    "Posterior Probability = [ Sensitivity (Recall) * Prior Probability ] / Predicted Probability # Bayes' Theorem\n",
    "\n",
    "Predicted Probability = [ Sensitivity (Recall) * Prior Probability ] + [ False Positive rate * (1 - Prior Probability) ] # Total Probability"
   ]
  },
  {
   "cell_type": "code",
   "execution_count": 5,
   "metadata": {},
   "outputs": [],
   "source": [
    "total_patients = 10_000"
   ]
  },
  {
   "cell_type": "code",
   "execution_count": null,
   "metadata": {},
   "outputs": [
    {
     "data": {
      "text/plain": [
       "500.0"
      ]
     },
     "execution_count": 7,
     "metadata": {},
     "output_type": "execute_result"
    }
   ],
   "source": [
    "Prior = 0.05 # % of the population actually addicted\n",
    "\n",
    "addicted_patients = 0\n",
    "addicted_patients"
   ]
  },
  {
   "cell_type": "code",
   "execution_count": null,
   "metadata": {},
   "outputs": [
    {
     "data": {
      "text/plain": [
       "9500.0"
      ]
     },
     "execution_count": 8,
     "metadata": {},
     "output_type": "execute_result"
    }
   ],
   "source": [
    "non_addicted_patients = 0\n",
    "non_addicted_patients"
   ]
  },
  {
   "cell_type": "code",
   "execution_count": null,
   "metadata": {},
   "outputs": [
    {
     "data": {
      "text/plain": [
       "372.8813559322034"
      ]
     },
     "execution_count": 9,
     "metadata": {},
     "output_type": "execute_result"
    }
   ],
   "source": [
    "# Likelihood - Test's sensitivity (true positive rate)\n",
    "flagged_addict_when_addicted = 0 # Sensitivity in terms of TP & FN?\n",
    "\n",
    "addicted_patients_flagged_as_addict = 0\n",
    "addicted_patients_flagged_as_addict"
   ]
  },
  {
   "cell_type": "code",
   "execution_count": null,
   "metadata": {},
   "outputs": [
    {
     "data": {
      "text/plain": [
       "127.11864406779661"
      ]
     },
     "execution_count": 10,
     "metadata": {},
     "output_type": "execute_result"
    }
   ],
   "source": [
    "# Test's miss rate (false negative rate | Type II error)\n",
    "flagged_non_addict_when_addicted = 0 # False Negative Rate in terms of TP & FN?\n",
    "\n",
    "addicted_patients_not_flagged = 0\n",
    "addicted_patients_not_flagged"
   ]
  },
  {
   "cell_type": "code",
   "execution_count": null,
   "metadata": {},
   "outputs": [
    {
     "data": {
      "text/plain": [
       "2829.787234042553"
      ]
     },
     "execution_count": 11,
     "metadata": {},
     "output_type": "execute_result"
    }
   ],
   "source": [
    "# Test's false alarm rate (alpha) (false positive rate | Type I error)\n",
    "flagged_addict_when_not_addicted = 0 # False Positive Rate in terms of FP & TN?\n",
    "\n",
    "non_addicted_flagged_addict = 0\n",
    "non_addicted_flagged_addict"
   ]
  },
  {
   "cell_type": "code",
   "execution_count": null,
   "metadata": {},
   "outputs": [
    {
     "data": {
      "text/plain": [
       "6670.212765957447"
      ]
     },
     "execution_count": 12,
     "metadata": {},
     "output_type": "execute_result"
    }
   ],
   "source": [
    "# Test's specificity (true negative rate)\n",
    "flagged_non_addict_when_not_addicted = 0 # Specificity in terms of TN & FP?\n",
    "\n",
    "non_addicted_not_flagged_addict = 0\n",
    "non_addicted_not_flagged_addict"
   ]
  },
  {
   "cell_type": "markdown",
   "metadata": {},
   "source": [
    "### *\"If the model predicts risk of addiction, what is the probability that the patient may actually become addicted?\"*"
   ]
  },
  {
   "cell_type": "code",
   "execution_count": 18,
   "metadata": {},
   "outputs": [
    {
     "data": {
      "text/markdown": [
       "\n",
       "    What's the change I'm one of the 373 who could become an addict,\n",
       "    or am I just one of 2830 patients the model classified as addicted but wouldn't actually become addicted?\n",
       "    "
      ],
      "text/plain": [
       "<IPython.core.display.Markdown object>"
      ]
     },
     "metadata": {},
     "output_type": "display_data"
    }
   ],
   "source": [
    "from IPython.display import display, Markdown\n",
    "display(\n",
    "    Markdown(\n",
    "    f'''\n",
    "    What's the change I'm one of the {round(addicted_patients_flagged_as_addict)} who could become an addict,\n",
    "    or am I just one of {round(non_addicted_flagged_addict)} patients the model classified as addicted but wouldn't actually become addicted?\n",
    "    '''\n",
    "    )\n",
    "    )"
   ]
  },
  {
   "cell_type": "code",
   "execution_count": null,
   "metadata": {},
   "outputs": [],
   "source": [
    "Addicted_given_flagged_addict = 0"
   ]
  },
  {
   "cell_type": "code",
   "execution_count": null,
   "metadata": {},
   "outputs": [
    {
     "data": {
      "text/markdown": [
       "# The probability of being addicted given a positive test is 11.64%"
      ],
      "text/plain": [
       "<IPython.core.display.Markdown object>"
      ]
     },
     "metadata": {},
     "output_type": "display_data"
    }
   ],
   "source": [
    "display(Markdown(f\"# The probability of being addicted given a positive test is {Addicted_given_flagged_addict:.2%}\"))"
   ]
  },
  {
   "cell_type": "code",
   "execution_count": null,
   "metadata": {},
   "outputs": [],
   "source": []
  }
 ],
 "metadata": {
  "kernelspec": {
   "display_name": "bayes",
   "language": "python",
   "name": "python3"
  },
  "language_info": {
   "codemirror_mode": {
    "name": "ipython",
    "version": 3
   },
   "file_extension": ".py",
   "mimetype": "text/x-python",
   "name": "python",
   "nbconvert_exporter": "python",
   "pygments_lexer": "ipython3",
   "version": "3.11.14"
  }
 },
 "nbformat": 4,
 "nbformat_minor": 2
}
